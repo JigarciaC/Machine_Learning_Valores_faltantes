{
 "cells": [
  {
   "cell_type": "code",
   "execution_count": null,
   "metadata": {},
   "outputs": [],
   "source": []
  },
  {
   "cell_type": "markdown",
   "metadata": {},
   "source": [
    "# Valores faltantes / missing values. Caso: variables numéricas\n",
    "* Los valores faltantes suceden.\n",
    "* Veamos tres enfoques para gestionar los valores faltantes.\n",
    "* Luego se comparará la efectividad de estos enfoques en un conjunto de datos del mundo real.\n",
    "\n",
    "**Introducción**\n",
    "* Hay muchas formas en que los datos pueden terminar con valores faltantes. Por ejemplo,\n",
    "  * Una casa de 2 dormitorios no incluirá el valor del tamaño de un tercer dormitorio.\n",
    "  * Un encuestado puede optar por no compartir sus ingresos.\n",
    "* La mayoría de las bibliotecas de aprendizaje automático (incluida scikit-learn) dan un error si intentas construir un modelo usando datos con valores faltantes. Por lo tanto, deberá elegir una de las estrategias siguientes."
   ]
  },
  {
   "cell_type": "markdown",
   "metadata": {},
   "source": [
    "### Enfoque 1. **Opcion Simple**. Eliminar columnas con valores faltantes\n",
    "* La opción más sencilla es eliminar las columnas con valores faltantes.\n",
    "* A menos que falten la mayoría de los valores en las columnas eliminadas, el modelo pierde acceso a mucha información (¡potencialmente útil!) con este enfoque."
   ]
  },
  {
   "cell_type": "markdown",
   "metadata": {},
   "source": [
    "### Enfoque 2. **Imputación**\n",
    "* La imputación completa los valores faltantes con algún número.\n",
    "* Por ejemplo, podemos completar el valor medio en cada columna.\n",
    "* El valor imputado no será exactamente correcto en la mayoría de los casos, pero generalmente conduce a modelos más precisos que los que se obtendrían si eliminara la columna por completo."
   ]
  },
  {
   "cell_type": "markdown",
   "metadata": {},
   "source": [
    "### Enfoque 3. **Imputación** con dataframe extendido\n",
    "* La imputación es el enfoque estándar y normalmente funciona bien.\n",
    "* Sin embargo, los valores imputados pueden estar sistemáticamente por encima o por debajo de sus valores reales (que no se recopilaron en el conjunto de datos).\n",
    "* O las filas con valores faltantes pueden ser únicas de alguna otra manera. En ese caso, su modelo haría mejores predicciones al considerar qué valores faltaban originalmente.\n",
    "* Con este enfoque, imputamos los valores faltantes, como antes. **Y, además, para cada columna a la que le faltan entradas en el conjunto de datos original, agregamos una nueva columna que muestra la ubicación de las entradas imputadas.**\n",
    "* En algunos casos, esto mejorará significativamente los resultados. En otros casos, no ayuda en absoluto."
   ]
  },
  {
   "cell_type": "markdown",
   "metadata": {},
   "source": [
    "## Cargar el dataset"
   ]
  },
  {
   "cell_type": "markdown",
   "metadata": {},
   "source": [
    "* Estamos trabajando con el **dataset de Melbourne Housing** (https://www.kaggle.com/datasets/dansbecker/melbourne-housing-snapshot). \n",
    "* Nuestro modelo utilizará información del dataset para predecir el precio de la vivienda."
   ]
  },
  {
   "cell_type": "code",
   "execution_count": 2,
   "metadata": {},
   "outputs": [],
   "source": [
    "import pandas as pd\n",
    "from sklearn.model_selection import train_test_split\n",
    "\n",
    "# Leer el archivo 'train.csv' y asignarlo a X_full\n",
    "X_full= pd.read_csv('train.csv', index_col='Id')\n",
    "\n",
    "# Leer el archivo 'test.csv' y asignarlo a X_test_full\n",
    "# Este archjivo se utiliza para correr el modelo test\n",
    "X_test_full = pd.read_csv('test.csv', index_col='Id')"
   ]
  },
  {
   "cell_type": "code",
   "execution_count": 3,
   "metadata": {},
   "outputs": [
    {
     "name": "stdout",
     "output_type": "stream",
     "text": [
      "<class 'pandas.core.frame.DataFrame'>\n",
      "Int64Index: 1460 entries, 1 to 1460\n",
      "Data columns (total 80 columns):\n",
      " #   Column         Non-Null Count  Dtype  \n",
      "---  ------         --------------  -----  \n",
      " 0   MSSubClass     1460 non-null   int64  \n",
      " 1   MSZoning       1460 non-null   object \n",
      " 2   LotFrontage    1201 non-null   float64\n",
      " 3   LotArea        1460 non-null   int64  \n",
      " 4   Street         1460 non-null   object \n",
      " 5   Alley          91 non-null     object \n",
      " 6   LotShape       1460 non-null   object \n",
      " 7   LandContour    1460 non-null   object \n",
      " 8   Utilities      1460 non-null   object \n",
      " 9   LotConfig      1460 non-null   object \n",
      " 10  LandSlope      1460 non-null   object \n",
      " 11  Neighborhood   1460 non-null   object \n",
      " 12  Condition1     1460 non-null   object \n",
      " 13  Condition2     1460 non-null   object \n",
      " 14  BldgType       1460 non-null   object \n",
      " 15  HouseStyle     1460 non-null   object \n",
      " 16  OverallQual    1460 non-null   int64  \n",
      " 17  OverallCond    1460 non-null   int64  \n",
      " 18  YearBuilt      1460 non-null   int64  \n",
      " 19  YearRemodAdd   1460 non-null   int64  \n",
      " 20  RoofStyle      1460 non-null   object \n",
      " 21  RoofMatl       1460 non-null   object \n",
      " 22  Exterior1st    1460 non-null   object \n",
      " 23  Exterior2nd    1460 non-null   object \n",
      " 24  MasVnrType     1452 non-null   object \n",
      " 25  MasVnrArea     1452 non-null   float64\n",
      " 26  ExterQual      1460 non-null   object \n",
      " 27  ExterCond      1460 non-null   object \n",
      " 28  Foundation     1460 non-null   object \n",
      " 29  BsmtQual       1423 non-null   object \n",
      " 30  BsmtCond       1423 non-null   object \n",
      " 31  BsmtExposure   1422 non-null   object \n",
      " 32  BsmtFinType1   1423 non-null   object \n",
      " 33  BsmtFinSF1     1460 non-null   int64  \n",
      " 34  BsmtFinType2   1422 non-null   object \n",
      " 35  BsmtFinSF2     1460 non-null   int64  \n",
      " 36  BsmtUnfSF      1460 non-null   int64  \n",
      " 37  TotalBsmtSF    1460 non-null   int64  \n",
      " 38  Heating        1460 non-null   object \n",
      " 39  HeatingQC      1460 non-null   object \n",
      " 40  CentralAir     1460 non-null   object \n",
      " 41  Electrical     1459 non-null   object \n",
      " 42  1stFlrSF       1460 non-null   int64  \n",
      " 43  2ndFlrSF       1460 non-null   int64  \n",
      " 44  LowQualFinSF   1460 non-null   int64  \n",
      " 45  GrLivArea      1460 non-null   int64  \n",
      " 46  BsmtFullBath   1460 non-null   int64  \n",
      " 47  BsmtHalfBath   1460 non-null   int64  \n",
      " 48  FullBath       1460 non-null   int64  \n",
      " 49  HalfBath       1460 non-null   int64  \n",
      " 50  BedroomAbvGr   1460 non-null   int64  \n",
      " 51  KitchenAbvGr   1460 non-null   int64  \n",
      " 52  KitchenQual    1460 non-null   object \n",
      " 53  TotRmsAbvGrd   1460 non-null   int64  \n",
      " 54  Functional     1460 non-null   object \n",
      " 55  Fireplaces     1460 non-null   int64  \n",
      " 56  FireplaceQu    770 non-null    object \n",
      " 57  GarageType     1379 non-null   object \n",
      " 58  GarageYrBlt    1379 non-null   float64\n",
      " 59  GarageFinish   1379 non-null   object \n",
      " 60  GarageCars     1460 non-null   int64  \n",
      " 61  GarageArea     1460 non-null   int64  \n",
      " 62  GarageQual     1379 non-null   object \n",
      " 63  GarageCond     1379 non-null   object \n",
      " 64  PavedDrive     1460 non-null   object \n",
      " 65  WoodDeckSF     1460 non-null   int64  \n",
      " 66  OpenPorchSF    1460 non-null   int64  \n",
      " 67  EnclosedPorch  1460 non-null   int64  \n",
      " 68  3SsnPorch      1460 non-null   int64  \n",
      " 69  ScreenPorch    1460 non-null   int64  \n",
      " 70  PoolArea       1460 non-null   int64  \n",
      " 71  PoolQC         7 non-null      object \n",
      " 72  Fence          281 non-null    object \n",
      " 73  MiscFeature    54 non-null     object \n",
      " 74  MiscVal        1460 non-null   int64  \n",
      " 75  MoSold         1460 non-null   int64  \n",
      " 76  YrSold         1460 non-null   int64  \n",
      " 77  SaleType       1460 non-null   object \n",
      " 78  SaleCondition  1460 non-null   object \n",
      " 79  SalePrice      1460 non-null   int64  \n",
      "dtypes: float64(3), int64(34), object(43)\n",
      "memory usage: 923.9+ KB\n"
     ]
    }
   ],
   "source": [
    "X_full.info()"
   ]
  },
  {
   "cell_type": "markdown",
   "metadata": {},
   "source": [
    "X_full, tiene: \n",
    "* 1460 filas y 80 columnas, entre las cuales existen:\n",
    "    *  37 variables numéricas entre int64(34) y float64(3)\n",
    "    *  Ademas, 43 variables catgóricas tipo object\n",
    "* Asimismo, se evidencian valores faltantes"
   ]
  },
  {
   "cell_type": "code",
   "execution_count": 4,
   "metadata": {},
   "outputs": [
    {
     "name": "stdout",
     "output_type": "stream",
     "text": [
      "<class 'pandas.core.frame.DataFrame'>\n",
      "Int64Index: 1459 entries, 1461 to 2919\n",
      "Data columns (total 79 columns):\n",
      " #   Column         Non-Null Count  Dtype  \n",
      "---  ------         --------------  -----  \n",
      " 0   MSSubClass     1459 non-null   int64  \n",
      " 1   MSZoning       1455 non-null   object \n",
      " 2   LotFrontage    1232 non-null   float64\n",
      " 3   LotArea        1459 non-null   int64  \n",
      " 4   Street         1459 non-null   object \n",
      " 5   Alley          107 non-null    object \n",
      " 6   LotShape       1459 non-null   object \n",
      " 7   LandContour    1459 non-null   object \n",
      " 8   Utilities      1457 non-null   object \n",
      " 9   LotConfig      1459 non-null   object \n",
      " 10  LandSlope      1459 non-null   object \n",
      " 11  Neighborhood   1459 non-null   object \n",
      " 12  Condition1     1459 non-null   object \n",
      " 13  Condition2     1459 non-null   object \n",
      " 14  BldgType       1459 non-null   object \n",
      " 15  HouseStyle     1459 non-null   object \n",
      " 16  OverallQual    1459 non-null   int64  \n",
      " 17  OverallCond    1459 non-null   int64  \n",
      " 18  YearBuilt      1459 non-null   int64  \n",
      " 19  YearRemodAdd   1459 non-null   int64  \n",
      " 20  RoofStyle      1459 non-null   object \n",
      " 21  RoofMatl       1459 non-null   object \n",
      " 22  Exterior1st    1458 non-null   object \n",
      " 23  Exterior2nd    1458 non-null   object \n",
      " 24  MasVnrType     1443 non-null   object \n",
      " 25  MasVnrArea     1444 non-null   float64\n",
      " 26  ExterQual      1459 non-null   object \n",
      " 27  ExterCond      1459 non-null   object \n",
      " 28  Foundation     1459 non-null   object \n",
      " 29  BsmtQual       1415 non-null   object \n",
      " 30  BsmtCond       1414 non-null   object \n",
      " 31  BsmtExposure   1415 non-null   object \n",
      " 32  BsmtFinType1   1417 non-null   object \n",
      " 33  BsmtFinSF1     1458 non-null   float64\n",
      " 34  BsmtFinType2   1417 non-null   object \n",
      " 35  BsmtFinSF2     1458 non-null   float64\n",
      " 36  BsmtUnfSF      1458 non-null   float64\n",
      " 37  TotalBsmtSF    1458 non-null   float64\n",
      " 38  Heating        1459 non-null   object \n",
      " 39  HeatingQC      1459 non-null   object \n",
      " 40  CentralAir     1459 non-null   object \n",
      " 41  Electrical     1459 non-null   object \n",
      " 42  1stFlrSF       1459 non-null   int64  \n",
      " 43  2ndFlrSF       1459 non-null   int64  \n",
      " 44  LowQualFinSF   1459 non-null   int64  \n",
      " 45  GrLivArea      1459 non-null   int64  \n",
      " 46  BsmtFullBath   1457 non-null   float64\n",
      " 47  BsmtHalfBath   1457 non-null   float64\n",
      " 48  FullBath       1459 non-null   int64  \n",
      " 49  HalfBath       1459 non-null   int64  \n",
      " 50  BedroomAbvGr   1459 non-null   int64  \n",
      " 51  KitchenAbvGr   1459 non-null   int64  \n",
      " 52  KitchenQual    1458 non-null   object \n",
      " 53  TotRmsAbvGrd   1459 non-null   int64  \n",
      " 54  Functional     1457 non-null   object \n",
      " 55  Fireplaces     1459 non-null   int64  \n",
      " 56  FireplaceQu    729 non-null    object \n",
      " 57  GarageType     1383 non-null   object \n",
      " 58  GarageYrBlt    1381 non-null   float64\n",
      " 59  GarageFinish   1381 non-null   object \n",
      " 60  GarageCars     1458 non-null   float64\n",
      " 61  GarageArea     1458 non-null   float64\n",
      " 62  GarageQual     1381 non-null   object \n",
      " 63  GarageCond     1381 non-null   object \n",
      " 64  PavedDrive     1459 non-null   object \n",
      " 65  WoodDeckSF     1459 non-null   int64  \n",
      " 66  OpenPorchSF    1459 non-null   int64  \n",
      " 67  EnclosedPorch  1459 non-null   int64  \n",
      " 68  3SsnPorch      1459 non-null   int64  \n",
      " 69  ScreenPorch    1459 non-null   int64  \n",
      " 70  PoolArea       1459 non-null   int64  \n",
      " 71  PoolQC         3 non-null      object \n",
      " 72  Fence          290 non-null    object \n",
      " 73  MiscFeature    51 non-null     object \n",
      " 74  MiscVal        1459 non-null   int64  \n",
      " 75  MoSold         1459 non-null   int64  \n",
      " 76  YrSold         1459 non-null   int64  \n",
      " 77  SaleType       1458 non-null   object \n",
      " 78  SaleCondition  1459 non-null   object \n",
      "dtypes: float64(11), int64(25), object(43)\n",
      "memory usage: 911.9+ KB\n"
     ]
    }
   ],
   "source": [
    "X_test_full.info()"
   ]
  },
  {
   "cell_type": "markdown",
   "metadata": {},
   "source": [
    "* X_test_full, tiene 79 columnas con (36) datos numericos: float64(11), int64(25) y 43 datos categóricos (tipo=object).\n",
    "* Tambien existen valores faltantes."
   ]
  },
  {
   "cell_type": "markdown",
   "metadata": {},
   "source": [
    "## Cargar datos de entrenamiento, validación y prueba.(Caso: solo variables numéricas)\n",
    "* Este caso se correrá con sólo varaibles numéricas. \n",
    "* Cargamos los conjuntos de entrenamiento y validación en **X_train, X_valid, y_train e y_valid.**\n",
    "* El conjunto de prueba se carga en **X_test_full**"
   ]
  },
  {
   "cell_type": "code",
   "execution_count": 5,
   "metadata": {},
   "outputs": [],
   "source": [
    "# 1. Eliminar filas con valores faltantes relacionados a la columna objetivo \"SalePrice\",\n",
    "X_full.dropna(axis=0, subset=['SalePrice'], inplace=True)"
   ]
  },
  {
   "cell_type": "code",
   "execution_count": 6,
   "metadata": {},
   "outputs": [],
   "source": [
    "# 2. Definir variable objetivo (y) y variables predictoras (X)\n",
    "y = X_full.SalePrice\n",
    "# Separar el objetivo de los predictores\n",
    "X_full.drop(['SalePrice'], axis=1, inplace=True)"
   ]
  },
  {
   "cell_type": "code",
   "execution_count": 8,
   "metadata": {},
   "outputs": [],
   "source": [
    "# 2.1 En este caso,por conveniencia, usaremos solo predictores numéricos\n",
    "# Se eliminan las variables categóricas\n",
    "X = X_full.select_dtypes(exclude=['object'])\n",
    "X_test = X_test_full.select_dtypes(exclude=['object'])"
   ]
  },
  {
   "cell_type": "code",
   "execution_count": 9,
   "metadata": {},
   "outputs": [
    {
     "name": "stdout",
     "output_type": "stream",
     "text": [
      "<class 'pandas.core.frame.DataFrame'>\n",
      "Int64Index: 1460 entries, 1 to 1460\n",
      "Data columns (total 36 columns):\n",
      " #   Column         Non-Null Count  Dtype  \n",
      "---  ------         --------------  -----  \n",
      " 0   MSSubClass     1460 non-null   int64  \n",
      " 1   LotFrontage    1201 non-null   float64\n",
      " 2   LotArea        1460 non-null   int64  \n",
      " 3   OverallQual    1460 non-null   int64  \n",
      " 4   OverallCond    1460 non-null   int64  \n",
      " 5   YearBuilt      1460 non-null   int64  \n",
      " 6   YearRemodAdd   1460 non-null   int64  \n",
      " 7   MasVnrArea     1452 non-null   float64\n",
      " 8   BsmtFinSF1     1460 non-null   int64  \n",
      " 9   BsmtFinSF2     1460 non-null   int64  \n",
      " 10  BsmtUnfSF      1460 non-null   int64  \n",
      " 11  TotalBsmtSF    1460 non-null   int64  \n",
      " 12  1stFlrSF       1460 non-null   int64  \n",
      " 13  2ndFlrSF       1460 non-null   int64  \n",
      " 14  LowQualFinSF   1460 non-null   int64  \n",
      " 15  GrLivArea      1460 non-null   int64  \n",
      " 16  BsmtFullBath   1460 non-null   int64  \n",
      " 17  BsmtHalfBath   1460 non-null   int64  \n",
      " 18  FullBath       1460 non-null   int64  \n",
      " 19  HalfBath       1460 non-null   int64  \n",
      " 20  BedroomAbvGr   1460 non-null   int64  \n",
      " 21  KitchenAbvGr   1460 non-null   int64  \n",
      " 22  TotRmsAbvGrd   1460 non-null   int64  \n",
      " 23  Fireplaces     1460 non-null   int64  \n",
      " 24  GarageYrBlt    1379 non-null   float64\n",
      " 25  GarageCars     1460 non-null   int64  \n",
      " 26  GarageArea     1460 non-null   int64  \n",
      " 27  WoodDeckSF     1460 non-null   int64  \n",
      " 28  OpenPorchSF    1460 non-null   int64  \n",
      " 29  EnclosedPorch  1460 non-null   int64  \n",
      " 30  3SsnPorch      1460 non-null   int64  \n",
      " 31  ScreenPorch    1460 non-null   int64  \n",
      " 32  PoolArea       1460 non-null   int64  \n",
      " 33  MiscVal        1460 non-null   int64  \n",
      " 34  MoSold         1460 non-null   int64  \n",
      " 35  YrSold         1460 non-null   int64  \n",
      "dtypes: float64(3), int64(33)\n",
      "memory usage: 422.0 KB\n"
     ]
    }
   ],
   "source": [
    "# 2.2 Vistazo a los dataframe\n",
    "X.info()"
   ]
  },
  {
   "cell_type": "code",
   "execution_count": 10,
   "metadata": {},
   "outputs": [
    {
     "name": "stdout",
     "output_type": "stream",
     "text": [
      "<class 'pandas.core.frame.DataFrame'>\n",
      "Int64Index: 1459 entries, 1461 to 2919\n",
      "Data columns (total 36 columns):\n",
      " #   Column         Non-Null Count  Dtype  \n",
      "---  ------         --------------  -----  \n",
      " 0   MSSubClass     1459 non-null   int64  \n",
      " 1   LotFrontage    1232 non-null   float64\n",
      " 2   LotArea        1459 non-null   int64  \n",
      " 3   OverallQual    1459 non-null   int64  \n",
      " 4   OverallCond    1459 non-null   int64  \n",
      " 5   YearBuilt      1459 non-null   int64  \n",
      " 6   YearRemodAdd   1459 non-null   int64  \n",
      " 7   MasVnrArea     1444 non-null   float64\n",
      " 8   BsmtFinSF1     1458 non-null   float64\n",
      " 9   BsmtFinSF2     1458 non-null   float64\n",
      " 10  BsmtUnfSF      1458 non-null   float64\n",
      " 11  TotalBsmtSF    1458 non-null   float64\n",
      " 12  1stFlrSF       1459 non-null   int64  \n",
      " 13  2ndFlrSF       1459 non-null   int64  \n",
      " 14  LowQualFinSF   1459 non-null   int64  \n",
      " 15  GrLivArea      1459 non-null   int64  \n",
      " 16  BsmtFullBath   1457 non-null   float64\n",
      " 17  BsmtHalfBath   1457 non-null   float64\n",
      " 18  FullBath       1459 non-null   int64  \n",
      " 19  HalfBath       1459 non-null   int64  \n",
      " 20  BedroomAbvGr   1459 non-null   int64  \n",
      " 21  KitchenAbvGr   1459 non-null   int64  \n",
      " 22  TotRmsAbvGrd   1459 non-null   int64  \n",
      " 23  Fireplaces     1459 non-null   int64  \n",
      " 24  GarageYrBlt    1381 non-null   float64\n",
      " 25  GarageCars     1458 non-null   float64\n",
      " 26  GarageArea     1458 non-null   float64\n",
      " 27  WoodDeckSF     1459 non-null   int64  \n",
      " 28  OpenPorchSF    1459 non-null   int64  \n",
      " 29  EnclosedPorch  1459 non-null   int64  \n",
      " 30  3SsnPorch      1459 non-null   int64  \n",
      " 31  ScreenPorch    1459 non-null   int64  \n",
      " 32  PoolArea       1459 non-null   int64  \n",
      " 33  MiscVal        1459 non-null   int64  \n",
      " 34  MoSold         1459 non-null   int64  \n",
      " 35  YrSold         1459 non-null   int64  \n",
      "dtypes: float64(11), int64(25)\n",
      "memory usage: 421.7 KB\n"
     ]
    }
   ],
   "source": [
    "X_test.info()"
   ]
  },
  {
   "cell_type": "markdown",
   "metadata": {},
   "source": [
    "* Nuestros dataframe se redujeron a 36 columnas y 1460 filas con variables numéricas."
   ]
  },
  {
   "cell_type": "code",
   "execution_count": 11,
   "metadata": {},
   "outputs": [],
   "source": [
    "# 3. Separar el conjunto de validación de los datos de entrenamiento\n",
    "X_train, X_valid, y_train, y_valid = train_test_split(X, y, train_size=0.8, test_size=0.2,\n",
    "                                                      random_state=0)"
   ]
  },
  {
   "cell_type": "markdown",
   "metadata": {},
   "source": [
    "* Como ya sabemos los modelos de Machine Leraning no corren con conjuntos que tengan datos faltantes.\n",
    "* Veamos a X_train"
   ]
  },
  {
   "cell_type": "code",
   "execution_count": 12,
   "metadata": {},
   "outputs": [
    {
     "data": {
      "text/html": [
       "<div>\n",
       "<style scoped>\n",
       "    .dataframe tbody tr th:only-of-type {\n",
       "        vertical-align: middle;\n",
       "    }\n",
       "\n",
       "    .dataframe tbody tr th {\n",
       "        vertical-align: top;\n",
       "    }\n",
       "\n",
       "    .dataframe thead th {\n",
       "        text-align: right;\n",
       "    }\n",
       "</style>\n",
       "<table border=\"1\" class=\"dataframe\">\n",
       "  <thead>\n",
       "    <tr style=\"text-align: right;\">\n",
       "      <th></th>\n",
       "      <th>MSSubClass</th>\n",
       "      <th>LotFrontage</th>\n",
       "      <th>LotArea</th>\n",
       "      <th>OverallQual</th>\n",
       "      <th>OverallCond</th>\n",
       "      <th>YearBuilt</th>\n",
       "      <th>YearRemodAdd</th>\n",
       "      <th>MasVnrArea</th>\n",
       "      <th>BsmtFinSF1</th>\n",
       "      <th>BsmtFinSF2</th>\n",
       "      <th>...</th>\n",
       "      <th>GarageArea</th>\n",
       "      <th>WoodDeckSF</th>\n",
       "      <th>OpenPorchSF</th>\n",
       "      <th>EnclosedPorch</th>\n",
       "      <th>3SsnPorch</th>\n",
       "      <th>ScreenPorch</th>\n",
       "      <th>PoolArea</th>\n",
       "      <th>MiscVal</th>\n",
       "      <th>MoSold</th>\n",
       "      <th>YrSold</th>\n",
       "    </tr>\n",
       "    <tr>\n",
       "      <th>Id</th>\n",
       "      <th></th>\n",
       "      <th></th>\n",
       "      <th></th>\n",
       "      <th></th>\n",
       "      <th></th>\n",
       "      <th></th>\n",
       "      <th></th>\n",
       "      <th></th>\n",
       "      <th></th>\n",
       "      <th></th>\n",
       "      <th></th>\n",
       "      <th></th>\n",
       "      <th></th>\n",
       "      <th></th>\n",
       "      <th></th>\n",
       "      <th></th>\n",
       "      <th></th>\n",
       "      <th></th>\n",
       "      <th></th>\n",
       "      <th></th>\n",
       "      <th></th>\n",
       "    </tr>\n",
       "  </thead>\n",
       "  <tbody>\n",
       "    <tr>\n",
       "      <th>619</th>\n",
       "      <td>20</td>\n",
       "      <td>90.0</td>\n",
       "      <td>11694</td>\n",
       "      <td>9</td>\n",
       "      <td>5</td>\n",
       "      <td>2007</td>\n",
       "      <td>2007</td>\n",
       "      <td>452.0</td>\n",
       "      <td>48</td>\n",
       "      <td>0</td>\n",
       "      <td>...</td>\n",
       "      <td>774</td>\n",
       "      <td>0</td>\n",
       "      <td>108</td>\n",
       "      <td>0</td>\n",
       "      <td>0</td>\n",
       "      <td>260</td>\n",
       "      <td>0</td>\n",
       "      <td>0</td>\n",
       "      <td>7</td>\n",
       "      <td>2007</td>\n",
       "    </tr>\n",
       "    <tr>\n",
       "      <th>871</th>\n",
       "      <td>20</td>\n",
       "      <td>60.0</td>\n",
       "      <td>6600</td>\n",
       "      <td>5</td>\n",
       "      <td>5</td>\n",
       "      <td>1962</td>\n",
       "      <td>1962</td>\n",
       "      <td>0.0</td>\n",
       "      <td>0</td>\n",
       "      <td>0</td>\n",
       "      <td>...</td>\n",
       "      <td>308</td>\n",
       "      <td>0</td>\n",
       "      <td>0</td>\n",
       "      <td>0</td>\n",
       "      <td>0</td>\n",
       "      <td>0</td>\n",
       "      <td>0</td>\n",
       "      <td>0</td>\n",
       "      <td>8</td>\n",
       "      <td>2009</td>\n",
       "    </tr>\n",
       "    <tr>\n",
       "      <th>93</th>\n",
       "      <td>30</td>\n",
       "      <td>80.0</td>\n",
       "      <td>13360</td>\n",
       "      <td>5</td>\n",
       "      <td>7</td>\n",
       "      <td>1921</td>\n",
       "      <td>2006</td>\n",
       "      <td>0.0</td>\n",
       "      <td>713</td>\n",
       "      <td>0</td>\n",
       "      <td>...</td>\n",
       "      <td>432</td>\n",
       "      <td>0</td>\n",
       "      <td>0</td>\n",
       "      <td>44</td>\n",
       "      <td>0</td>\n",
       "      <td>0</td>\n",
       "      <td>0</td>\n",
       "      <td>0</td>\n",
       "      <td>8</td>\n",
       "      <td>2009</td>\n",
       "    </tr>\n",
       "    <tr>\n",
       "      <th>818</th>\n",
       "      <td>20</td>\n",
       "      <td>NaN</td>\n",
       "      <td>13265</td>\n",
       "      <td>8</td>\n",
       "      <td>5</td>\n",
       "      <td>2002</td>\n",
       "      <td>2002</td>\n",
       "      <td>148.0</td>\n",
       "      <td>1218</td>\n",
       "      <td>0</td>\n",
       "      <td>...</td>\n",
       "      <td>857</td>\n",
       "      <td>150</td>\n",
       "      <td>59</td>\n",
       "      <td>0</td>\n",
       "      <td>0</td>\n",
       "      <td>0</td>\n",
       "      <td>0</td>\n",
       "      <td>0</td>\n",
       "      <td>7</td>\n",
       "      <td>2008</td>\n",
       "    </tr>\n",
       "    <tr>\n",
       "      <th>303</th>\n",
       "      <td>20</td>\n",
       "      <td>118.0</td>\n",
       "      <td>13704</td>\n",
       "      <td>7</td>\n",
       "      <td>5</td>\n",
       "      <td>2001</td>\n",
       "      <td>2002</td>\n",
       "      <td>150.0</td>\n",
       "      <td>0</td>\n",
       "      <td>0</td>\n",
       "      <td>...</td>\n",
       "      <td>843</td>\n",
       "      <td>468</td>\n",
       "      <td>81</td>\n",
       "      <td>0</td>\n",
       "      <td>0</td>\n",
       "      <td>0</td>\n",
       "      <td>0</td>\n",
       "      <td>0</td>\n",
       "      <td>1</td>\n",
       "      <td>2006</td>\n",
       "    </tr>\n",
       "  </tbody>\n",
       "</table>\n",
       "<p>5 rows × 36 columns</p>\n",
       "</div>"
      ],
      "text/plain": [
       "     MSSubClass  LotFrontage  LotArea  OverallQual  OverallCond  YearBuilt  \\\n",
       "Id                                                                           \n",
       "619          20         90.0    11694            9            5       2007   \n",
       "871          20         60.0     6600            5            5       1962   \n",
       "93           30         80.0    13360            5            7       1921   \n",
       "818          20          NaN    13265            8            5       2002   \n",
       "303          20        118.0    13704            7            5       2001   \n",
       "\n",
       "     YearRemodAdd  MasVnrArea  BsmtFinSF1  BsmtFinSF2  ...  GarageArea  \\\n",
       "Id                                                     ...               \n",
       "619          2007       452.0          48           0  ...         774   \n",
       "871          1962         0.0           0           0  ...         308   \n",
       "93           2006         0.0         713           0  ...         432   \n",
       "818          2002       148.0        1218           0  ...         857   \n",
       "303          2002       150.0           0           0  ...         843   \n",
       "\n",
       "     WoodDeckSF  OpenPorchSF  EnclosedPorch  3SsnPorch  ScreenPorch  PoolArea  \\\n",
       "Id                                                                              \n",
       "619           0          108              0          0          260         0   \n",
       "871           0            0              0          0            0         0   \n",
       "93            0            0             44          0            0         0   \n",
       "818         150           59              0          0            0         0   \n",
       "303         468           81              0          0            0         0   \n",
       "\n",
       "     MiscVal  MoSold  YrSold  \n",
       "Id                            \n",
       "619        0       7    2007  \n",
       "871        0       8    2009  \n",
       "93         0       8    2009  \n",
       "818        0       7    2008  \n",
       "303        0       1    2006  \n",
       "\n",
       "[5 rows x 36 columns]"
      ]
     },
     "execution_count": 12,
     "metadata": {},
     "output_type": "execute_result"
    }
   ],
   "source": [
    "# Un vistazo a las primeras filas de X_train\n",
    "X_train.head()"
   ]
  },
  {
   "cell_type": "code",
   "execution_count": 13,
   "metadata": {},
   "outputs": [
    {
     "data": {
      "text/html": [
       "<div>\n",
       "<style scoped>\n",
       "    .dataframe tbody tr th:only-of-type {\n",
       "        vertical-align: middle;\n",
       "    }\n",
       "\n",
       "    .dataframe tbody tr th {\n",
       "        vertical-align: top;\n",
       "    }\n",
       "\n",
       "    .dataframe thead th {\n",
       "        text-align: right;\n",
       "    }\n",
       "</style>\n",
       "<table border=\"1\" class=\"dataframe\">\n",
       "  <thead>\n",
       "    <tr style=\"text-align: right;\">\n",
       "      <th></th>\n",
       "      <th>MSSubClass</th>\n",
       "      <th>LotFrontage</th>\n",
       "      <th>LotArea</th>\n",
       "      <th>OverallQual</th>\n",
       "      <th>OverallCond</th>\n",
       "      <th>YearBuilt</th>\n",
       "      <th>YearRemodAdd</th>\n",
       "      <th>MasVnrArea</th>\n",
       "      <th>BsmtFinSF1</th>\n",
       "      <th>BsmtFinSF2</th>\n",
       "      <th>...</th>\n",
       "      <th>GarageArea</th>\n",
       "      <th>WoodDeckSF</th>\n",
       "      <th>OpenPorchSF</th>\n",
       "      <th>EnclosedPorch</th>\n",
       "      <th>3SsnPorch</th>\n",
       "      <th>ScreenPorch</th>\n",
       "      <th>PoolArea</th>\n",
       "      <th>MiscVal</th>\n",
       "      <th>MoSold</th>\n",
       "      <th>YrSold</th>\n",
       "    </tr>\n",
       "    <tr>\n",
       "      <th>Id</th>\n",
       "      <th></th>\n",
       "      <th></th>\n",
       "      <th></th>\n",
       "      <th></th>\n",
       "      <th></th>\n",
       "      <th></th>\n",
       "      <th></th>\n",
       "      <th></th>\n",
       "      <th></th>\n",
       "      <th></th>\n",
       "      <th></th>\n",
       "      <th></th>\n",
       "      <th></th>\n",
       "      <th></th>\n",
       "      <th></th>\n",
       "      <th></th>\n",
       "      <th></th>\n",
       "      <th></th>\n",
       "      <th></th>\n",
       "      <th></th>\n",
       "      <th></th>\n",
       "    </tr>\n",
       "  </thead>\n",
       "  <tbody>\n",
       "    <tr>\n",
       "      <th>764</th>\n",
       "      <td>60</td>\n",
       "      <td>82.0</td>\n",
       "      <td>9430</td>\n",
       "      <td>8</td>\n",
       "      <td>5</td>\n",
       "      <td>1999</td>\n",
       "      <td>1999</td>\n",
       "      <td>673.0</td>\n",
       "      <td>1163</td>\n",
       "      <td>0</td>\n",
       "      <td>...</td>\n",
       "      <td>856</td>\n",
       "      <td>0</td>\n",
       "      <td>128</td>\n",
       "      <td>0</td>\n",
       "      <td>0</td>\n",
       "      <td>180</td>\n",
       "      <td>0</td>\n",
       "      <td>0</td>\n",
       "      <td>7</td>\n",
       "      <td>2009</td>\n",
       "    </tr>\n",
       "    <tr>\n",
       "      <th>836</th>\n",
       "      <td>20</td>\n",
       "      <td>60.0</td>\n",
       "      <td>9600</td>\n",
       "      <td>4</td>\n",
       "      <td>7</td>\n",
       "      <td>1950</td>\n",
       "      <td>1995</td>\n",
       "      <td>0.0</td>\n",
       "      <td>442</td>\n",
       "      <td>0</td>\n",
       "      <td>...</td>\n",
       "      <td>436</td>\n",
       "      <td>290</td>\n",
       "      <td>0</td>\n",
       "      <td>0</td>\n",
       "      <td>0</td>\n",
       "      <td>0</td>\n",
       "      <td>0</td>\n",
       "      <td>0</td>\n",
       "      <td>2</td>\n",
       "      <td>2010</td>\n",
       "    </tr>\n",
       "    <tr>\n",
       "      <th>1217</th>\n",
       "      <td>90</td>\n",
       "      <td>68.0</td>\n",
       "      <td>8930</td>\n",
       "      <td>6</td>\n",
       "      <td>5</td>\n",
       "      <td>1978</td>\n",
       "      <td>1978</td>\n",
       "      <td>0.0</td>\n",
       "      <td>0</td>\n",
       "      <td>0</td>\n",
       "      <td>...</td>\n",
       "      <td>539</td>\n",
       "      <td>0</td>\n",
       "      <td>0</td>\n",
       "      <td>0</td>\n",
       "      <td>0</td>\n",
       "      <td>0</td>\n",
       "      <td>0</td>\n",
       "      <td>0</td>\n",
       "      <td>4</td>\n",
       "      <td>2010</td>\n",
       "    </tr>\n",
       "    <tr>\n",
       "      <th>560</th>\n",
       "      <td>120</td>\n",
       "      <td>NaN</td>\n",
       "      <td>3196</td>\n",
       "      <td>7</td>\n",
       "      <td>5</td>\n",
       "      <td>2003</td>\n",
       "      <td>2004</td>\n",
       "      <td>18.0</td>\n",
       "      <td>0</td>\n",
       "      <td>0</td>\n",
       "      <td>...</td>\n",
       "      <td>420</td>\n",
       "      <td>143</td>\n",
       "      <td>20</td>\n",
       "      <td>0</td>\n",
       "      <td>0</td>\n",
       "      <td>0</td>\n",
       "      <td>0</td>\n",
       "      <td>0</td>\n",
       "      <td>10</td>\n",
       "      <td>2006</td>\n",
       "    </tr>\n",
       "    <tr>\n",
       "      <th>685</th>\n",
       "      <td>60</td>\n",
       "      <td>58.0</td>\n",
       "      <td>16770</td>\n",
       "      <td>7</td>\n",
       "      <td>5</td>\n",
       "      <td>1998</td>\n",
       "      <td>1998</td>\n",
       "      <td>30.0</td>\n",
       "      <td>0</td>\n",
       "      <td>0</td>\n",
       "      <td>...</td>\n",
       "      <td>486</td>\n",
       "      <td>0</td>\n",
       "      <td>81</td>\n",
       "      <td>0</td>\n",
       "      <td>0</td>\n",
       "      <td>0</td>\n",
       "      <td>0</td>\n",
       "      <td>0</td>\n",
       "      <td>6</td>\n",
       "      <td>2010</td>\n",
       "    </tr>\n",
       "  </tbody>\n",
       "</table>\n",
       "<p>5 rows × 36 columns</p>\n",
       "</div>"
      ],
      "text/plain": [
       "      MSSubClass  LotFrontage  LotArea  OverallQual  OverallCond  YearBuilt  \\\n",
       "Id                                                                            \n",
       "764           60         82.0     9430            8            5       1999   \n",
       "836           20         60.0     9600            4            7       1950   \n",
       "1217          90         68.0     8930            6            5       1978   \n",
       "560          120          NaN     3196            7            5       2003   \n",
       "685           60         58.0    16770            7            5       1998   \n",
       "\n",
       "      YearRemodAdd  MasVnrArea  BsmtFinSF1  BsmtFinSF2  ...  GarageArea  \\\n",
       "Id                                                      ...               \n",
       "764           1999       673.0        1163           0  ...         856   \n",
       "836           1995         0.0         442           0  ...         436   \n",
       "1217          1978         0.0           0           0  ...         539   \n",
       "560           2004        18.0           0           0  ...         420   \n",
       "685           1998        30.0           0           0  ...         486   \n",
       "\n",
       "      WoodDeckSF  OpenPorchSF  EnclosedPorch  3SsnPorch  ScreenPorch  \\\n",
       "Id                                                                     \n",
       "764            0          128              0          0          180   \n",
       "836          290            0              0          0            0   \n",
       "1217           0            0              0          0            0   \n",
       "560          143           20              0          0            0   \n",
       "685            0           81              0          0            0   \n",
       "\n",
       "      PoolArea  MiscVal  MoSold  YrSold  \n",
       "Id                                       \n",
       "764          0        0       7    2009  \n",
       "836          0        0       2    2010  \n",
       "1217         0        0       4    2010  \n",
       "560          0        0      10    2006  \n",
       "685          0        0       6    2010  \n",
       "\n",
       "[5 rows x 36 columns]"
      ]
     },
     "execution_count": 13,
     "metadata": {},
     "output_type": "execute_result"
    }
   ],
   "source": [
    "X_train.tail()"
   ]
  },
  {
   "cell_type": "markdown",
   "metadata": {},
   "source": [
    "* Se observan valores faltantes (NaN) en las primeras y ultimas filas de X_train"
   ]
  },
  {
   "cell_type": "markdown",
   "metadata": {},
   "source": [
    "## Información preliminar más detallada\n",
    "* Tamaño de los conjuntos de datos \n",
    "* Valores faltantes en cada uno de ellos."
   ]
  },
  {
   "cell_type": "code",
   "execution_count": 17,
   "metadata": {},
   "outputs": [
    {
     "name": "stdout",
     "output_type": "stream",
     "text": [
      "X_train tiene (1168, 36), filas y columnas\n",
      "y_train tiene (1168,), filas y columnas\n",
      "X_valid tiene (292, 36), filas y columnas\n",
      "y_valid tiene (292,), filas y columnas\n"
     ]
    }
   ],
   "source": [
    "print(f\"X_train tiene {X_train.shape}, filas y columnas\")\n",
    "print(f\"y_train tiene {y_train.shape}, filas y columnas\")\n",
    "print(f\"X_valid tiene {X_valid.shape}, filas y columnas\")\n",
    "print(f\"y_valid tiene {y_valid.shape}, filas y columnas\")"
   ]
  },
  {
   "cell_type": "markdown",
   "metadata": {},
   "source": [
    "## Valores faltantes en las columnas de X_train"
   ]
  },
  {
   "cell_type": "code",
   "execution_count": 43,
   "metadata": {},
   "outputs": [
    {
     "data": {
      "text/plain": [
       "['LotFrontage', 'MasVnrArea', 'GarageYrBlt']"
      ]
     },
     "execution_count": 43,
     "metadata": {},
     "output_type": "execute_result"
    }
   ],
   "source": [
    "# Identificar en una lista las columnas con valores faltantes en X_train y almacenar en una variable\n",
    "cols_missing = [col for col in X_train.columns\n",
    "                     if X_train[col].isnull().any()]\n",
    "cols_missing"
   ]
  },
  {
   "cell_type": "code",
   "execution_count": 47,
   "metadata": {},
   "outputs": [
    {
     "name": "stdout",
     "output_type": "stream",
     "text": [
      "LotFrontage    212\n",
      "MasVnrArea       6\n",
      "GarageYrBlt     58\n",
      "dtype: int64\n"
     ]
    }
   ],
   "source": [
    "# Cantidad de valores faltantes en cada columna de datos de entrenamiento\n",
    "missing_val_count_by_column = (X_train.isnull().sum())\n",
    "print(missing_val_count_by_column[missing_val_count_by_column > 0])"
   ]
  },
  {
   "cell_type": "markdown",
   "metadata": {},
   "source": [
    "## Valores faltantes en el conjunto de prueba: X_test"
   ]
  },
  {
   "cell_type": "code",
   "execution_count": 20,
   "metadata": {},
   "outputs": [
    {
     "data": {
      "text/plain": [
       "['LotFrontage',\n",
       " 'MasVnrArea',\n",
       " 'BsmtFinSF1',\n",
       " 'BsmtFinSF2',\n",
       " 'BsmtUnfSF',\n",
       " 'TotalBsmtSF',\n",
       " 'BsmtFullBath',\n",
       " 'BsmtHalfBath',\n",
       " 'GarageYrBlt',\n",
       " 'GarageCars',\n",
       " 'GarageArea']"
      ]
     },
     "execution_count": 20,
     "metadata": {},
     "output_type": "execute_result"
    }
   ],
   "source": [
    "# Identificar las columnas con valores faltantes en X_test y almacenar en una variable\n",
    "cols_missing_test = [col for col in X_test.columns\n",
    "                     if X_test[col].isnull().any()]\n",
    "cols_missing_test"
   ]
  },
  {
   "cell_type": "code",
   "execution_count": 22,
   "metadata": {},
   "outputs": [
    {
     "name": "stdout",
     "output_type": "stream",
     "text": [
      "LotFrontage     227\n",
      "MasVnrArea       15\n",
      "BsmtFinSF1        1\n",
      "BsmtFinSF2        1\n",
      "BsmtUnfSF         1\n",
      "TotalBsmtSF       1\n",
      "BsmtFullBath      2\n",
      "BsmtHalfBath      2\n",
      "GarageYrBlt      78\n",
      "GarageCars        1\n",
      "GarageArea        1\n",
      "dtype: int64\n"
     ]
    }
   ],
   "source": [
    "# Cantidad de valores faltantes en cada columna de datos test\n",
    "missing_val_count_by_column_test = (X_test.isnull().sum())\n",
    "print(missing_val_count_by_column_test[missing_val_count_by_column_test > 0])"
   ]
  },
  {
   "cell_type": "markdown",
   "metadata": {},
   "source": [
    "* En X_test, existen 8 variables adicionales a las 3 con valores faltantes en X_train."
   ]
  },
  {
   "cell_type": "code",
   "execution_count": 55,
   "metadata": {},
   "outputs": [
    {
     "name": "stdout",
     "output_type": "stream",
     "text": [
      "X_train tiene 1168 filas\n",
      "Existen 3 columnas en los datos de entranamiento con valores faltantes\n",
      "Hay 276 entradas con valores faltantes\n",
      "El porcentaje de datos faltantes en X_train es de 23.63013698630137 %\n"
     ]
    }
   ],
   "source": [
    "print(f\"X_train tiene {X_train.shape[0]} filas\")\n",
    "print(f\"Existen {len(cols_missing)} columnas en los datos de entranamiento con valores faltantes\")\n",
    "print(f\"Hay {(missing_val_count_by_column[missing_val_count_by_column > 0].sum())} entradas con valores faltantes\")\n",
    "print(f\"El porcentaje de datos faltantes en X_train es de un {(missing_val_count_by_column[missing_val_count_by_column > 0].sum())/X_train.shape[0]*100} %\")"
   ]
  },
  {
   "cell_type": "code",
   "execution_count": 56,
   "metadata": {},
   "outputs": [
    {
     "name": "stdout",
     "output_type": "stream",
     "text": [
      "X_test tiene 1459 filas\n",
      "Existen 11 columnas en los datos de prueba con valores faltantes\n",
      "Hay 330 entradas con valores faltantes\n",
      "El porcentaje de datos faltantes en X_test es de un 22.618231665524334 %\n"
     ]
    }
   ],
   "source": [
    "print(f\"X_test tiene {X_test.shape[0]} filas\")\n",
    "print(f\"Existen {len(cols_missing_test)} columnas en los datos de prueba con valores faltantes\")\n",
    "print(f\"Hay {(missing_val_count_by_column_test[missing_val_count_by_column_test > 0].sum())} entradas con valores faltantes\")\n",
    "print(f\"El porcentaje de datos faltantes en X_test es de un {(missing_val_count_by_column_test[missing_val_count_by_column_test > 0].sum())/X_test.shape[0]*100} %\")"
   ]
  },
  {
   "cell_type": "markdown",
   "metadata": {},
   "source": [
    "## Funcion para comparar los diferentes enfoques para tratar los valores faltantes.\n",
    "* Para comparar diferentes enfoques para tratar los valores faltantes, se usará una función de utilidad\n",
    "* Esta función informa el error absoluto medio (MAE) de un modelo de bosque aleatorio."
   ]
  },
  {
   "cell_type": "code",
   "execution_count": 57,
   "metadata": {},
   "outputs": [],
   "source": [
    "from sklearn.ensemble import RandomForestRegressor\n",
    "from sklearn.metrics import mean_absolute_error\n",
    "\n",
    "# Function for comparing different approaches\n",
    "def score_dataset(X_train, X_valid, y_train, y_valid):\n",
    "    model = RandomForestRegressor(n_estimators=100, random_state=0)# Fue nuestro mejor modelo antes\n",
    "    model.fit(X_train, y_train)\n",
    "    preds = model.predict(X_valid)\n",
    "    return mean_absolute_error(y_valid, preds)"
   ]
  },
  {
   "cell_type": "markdown",
   "metadata": {},
   "source": [
    "## Enfoque 1: Eliminar columnas con valores faltantes\n",
    "* En este paso, se preprocesará los datos en X_train y X_valid para eliminar columnas con valores faltantes.\n",
    "* Se establecen los DataFrames preprocesados en **reduce_X_train** y **reduce_X_valid**, respectivamente.\n",
    "* Recordemos que **cols_missing** contien las columnas con valores faltantes en X_train."
   ]
  },
  {
   "cell_type": "code",
   "execution_count": 60,
   "metadata": {},
   "outputs": [],
   "source": [
    "# 1. Eliminar las columnas con valores faltantos tanto en los datos de entrenamiento como en los de validación.\n",
    "# Asignar los nombres: reducido_X_train y reducido_X_valid, respectivamente.\n",
    "reduce_X_train = X_train.drop(cols_missing, axis=1)\n",
    "reduce_X_valid = X_valid.drop(cols_missing, axis=1)"
   ]
  },
  {
   "cell_type": "markdown",
   "metadata": {},
   "source": [
    "Verificamos el numéro de filas y columnas de cada conjunto de datos"
   ]
  },
  {
   "cell_type": "code",
   "execution_count": 61,
   "metadata": {},
   "outputs": [
    {
     "name": "stdout",
     "output_type": "stream",
     "text": [
      "reduce_X_train tiene (1168, 33), filas y columnas\n",
      "y_train tiene (1168,), filas y columnas\n",
      "reduce_X_valid tiene (292, 33), filas y columnas\n",
      "y_valid tiene (292,), filas y columnas\n"
     ]
    }
   ],
   "source": [
    "print(f\"reduce_X_train tiene {reduce_X_train.shape}, filas y columnas\")\n",
    "print(f\"y_train tiene {y_train.shape}, filas y columnas\")\n",
    "print(f\"reduce_X_valid tiene {reduce_X_valid.shape}, filas y columnas\")\n",
    "print(f\"y_valid tiene {y_valid.shape}, filas y columnas\")"
   ]
  },
  {
   "cell_type": "markdown",
   "metadata": {},
   "source": [
    "* Se eliminaron las tres columnas con valores faltantes, de 36 pasamos a 33 columnas. "
   ]
  },
  {
   "cell_type": "code",
   "execution_count": 62,
   "metadata": {},
   "outputs": [
    {
     "name": "stdout",
     "output_type": "stream",
     "text": [
      "MAE (Eliminar columnas con valores faltantes):\n",
      "17837.82570776256\n"
     ]
    }
   ],
   "source": [
    "# 2. Obtener el MAE para este enfoque.\n",
    "print(\"MAE (Eliminar columnas con valores faltantes):\")\n",
    "print(score_dataset(reduce_X_train, reduce_X_valid, y_train, y_valid))"
   ]
  },
  {
   "cell_type": "markdown",
   "metadata": {},
   "source": [
    "## Enfoque 2 Imputación Simple\n",
    "\n",
    "* Imputar los valores faltantes con el valor medio, la mediana y valor mas frecuente, a lo largo de cada columna.\n",
    "* Establecer los DataFrames preprocesados en **imputed_X_train** e **imputed_X_valid**.\n",
    "* Asegurar de que los nombres de las columnas coincidan con los de X_train y X_valid."
   ]
  },
  {
   "cell_type": "markdown",
   "metadata": {},
   "source": [
    "### 2.1 Imputación Simple (strategy='mean')"
   ]
  },
  {
   "cell_type": "code",
   "execution_count": 63,
   "metadata": {},
   "outputs": [],
   "source": [
    "# 1. Imputación Simple (mean)\n",
    "from sklearn.impute import SimpleImputer\n",
    "mi_imputacion = SimpleImputer(strategy='mean')\n",
    "\n",
    "imputed_mean_X_train = pd.DataFrame(mi_imputacion.fit_transform(X_train))\n",
    "imputed_mean_X_valid = pd.DataFrame(mi_imputacion.transform(X_valid))"
   ]
  },
  {
   "cell_type": "code",
   "execution_count": 64,
   "metadata": {},
   "outputs": [],
   "source": [
    "# 2. Devolver nombre a columnas eliminadas por la imputación.\n",
    "\n",
    "imputed_mean_X_train.columns = X_train.columns\n",
    "imputed_mean_X_valid.columns = X_valid.columns"
   ]
  },
  {
   "cell_type": "code",
   "execution_count": 65,
   "metadata": {},
   "outputs": [
    {
     "name": "stdout",
     "output_type": "stream",
     "text": [
      "imputed_mean_X_train tiene (1168, 36), filas y columnas\n",
      "y_train tiene (1168,), filas y columnas\n",
      "imputed_mean_X_valid tiene (292, 36), filas y columnas\n",
      "y_valid tiene (292,), filas y columnas\n"
     ]
    }
   ],
   "source": [
    "# 3. Revision del numero de filas y columnas de cada conjunto de datos\n",
    "print(f\"imputed_mean_X_train tiene {imputed_mean_X_train.shape}, filas y columnas\")\n",
    "print(f\"y_train tiene {y_train.shape}, filas y columnas\")\n",
    "print(f\"imputed_mean_X_valid tiene {imputed_mean_X_valid.shape}, filas y columnas\")\n",
    "print(f\"y_valid tiene {y_valid.shape}, filas y columnas\")"
   ]
  },
  {
   "cell_type": "code",
   "execution_count": 67,
   "metadata": {},
   "outputs": [
    {
     "name": "stdout",
     "output_type": "stream",
     "text": [
      "MAE (Imputación Simple: media):\n",
      "18062.894611872147\n"
     ]
    }
   ],
   "source": [
    "# 4. Obtener el MAE para este enfoque.\n",
    "print(\"MAE (Imputación Simple: media):\")\n",
    "print(score_dataset(imputed_mean_X_train, imputed_mean_X_valid, y_train, y_valid))"
   ]
  },
  {
   "cell_type": "markdown",
   "metadata": {},
   "source": [
    "* Dado que hay tan pocos valores faltantes en el conjunto de datos, esperaríamos que la **imputación funcionara mejor** que **eliminar columnas** por completo.\n",
    "* Sin embargo, **vemos que eliminar columnas funciona ligeramente mejor**.\n",
    "* Si bien esto probablemente pueda atribuirse en parte al ruido en el conjunto de datos, otra posible explicación **es que el método de imputación no coincide muy bien con este conjunto de datos**.\n",
    "* Es decir, tal vez en lugar de completar el valor medio, tenga más sentido establecer cada valor faltante en un valor de 0, completar el valor encontrado con más frecuencia o utilizar algún otro método.\n",
    "* Por ejemplo, consideremos la columna **GarageYrBlt** (que indica el año en que se construyó el garaje).\n",
    "* Es probable que, en algunos casos, un valor faltante indique una casa que no tiene garaje.\n",
    "  * ¿Tiene más sentido completar el **valor mediano** en cada columna en este caso?\n",
    "  * ¿O podríamos obtener mejores resultados completando el **valor mínimo** en cada columna?\n",
    "* No está del todo claro qué es lo mejor en este caso, pero tal vez podamos descartar algunas opciones de inmediato; por ejemplo, **establecer los valores faltantes en esta columna en 0** probablemente produzca resultados horribles."
   ]
  },
  {
   "cell_type": "markdown",
   "metadata": {},
   "source": [
    "### 2.2 Imputación Simple (strategy='median')"
   ]
  },
  {
   "cell_type": "code",
   "execution_count": 77,
   "metadata": {},
   "outputs": [
    {
     "name": "stdout",
     "output_type": "stream",
     "text": [
      "MAE (Imputation Simple: mediana):\n",
      "17791.59899543379\n"
     ]
    }
   ],
   "source": [
    "#2.2.1  Imputación median\n",
    "from sklearn.impute import SimpleImputer\n",
    "mi_imputacion = SimpleImputer(strategy='median')\n",
    "\n",
    "imputed_median_X_train = pd.DataFrame(mi_imputacion.fit_transform(X_train))\n",
    "imputed_median_X_valid = pd.DataFrame(mi_imputacion.transform(X_valid))\n",
    "\n",
    "# 2.2.2. Devolver nombre a columnas eliminadas por la imputación.\n",
    "\n",
    "imputed_median_X_train.columns = X_train.columns\n",
    "imputed_median_X_valid.columns = X_valid.columns\n",
    "\n",
    "# 2.2.3 Obtener el MAE para este enfoque.\n",
    "print(\"MAE (Imputation Simple: mediana):\")\n",
    "print(score_dataset(imputed_median_X_train, imputed_median_X_valid, y_train, y_valid))"
   ]
  },
  {
   "cell_type": "markdown",
   "metadata": {},
   "source": [
    "### 2.3 Imputación Simple (strategy='most_frequent')"
   ]
  },
  {
   "cell_type": "code",
   "execution_count": 71,
   "metadata": {},
   "outputs": [
    {
     "name": "stdout",
     "output_type": "stream",
     "text": [
      "MAE (Imputation Simple: most_frequent):\n",
      "17956.065479452056\n"
     ]
    }
   ],
   "source": [
    "# 2.3.1. Imputación most_frequent\n",
    "from sklearn.impute import SimpleImputer\n",
    "mi_imputacion = SimpleImputer(strategy='most_frequent')\n",
    "\n",
    "imputed_mf_X_train = pd.DataFrame(mi_imputacion.fit_transform(X_train))\n",
    "imputed_mf_X_valid = pd.DataFrame(mi_imputacion.transform(X_valid))\n",
    "\n",
    "# 2.3.2. Devolver nombre a columnas eliminadas por la imputación.\n",
    "\n",
    "imputed_mf_X_train.columns = X_train.columns\n",
    "imputed_mf_X_valid.columns = X_valid.columns\n",
    "\n",
    "# 2.3.3. Obtener el MAE para este enfoque.\n",
    "print(\"MAE (Imputation Simple: most_frequent):\")\n",
    "print(score_dataset(imputed_mf_X_train, imputed_mf_X_valid, y_train, y_valid))"
   ]
  },
  {
   "cell_type": "markdown",
   "metadata": {},
   "source": [
    "## Enfoque 3: Imputación con dataframe extendido"
   ]
  },
  {
   "cell_type": "code",
   "execution_count": 72,
   "metadata": {},
   "outputs": [
    {
     "name": "stdout",
     "output_type": "stream",
     "text": [
      "<class 'pandas.core.frame.DataFrame'>\n",
      "Int64Index: 1168 entries, 619 to 685\n",
      "Data columns (total 39 columns):\n",
      " #   Column                   Non-Null Count  Dtype  \n",
      "---  ------                   --------------  -----  \n",
      " 0   MSSubClass               1168 non-null   int64  \n",
      " 1   LotFrontage              956 non-null    float64\n",
      " 2   LotArea                  1168 non-null   int64  \n",
      " 3   OverallQual              1168 non-null   int64  \n",
      " 4   OverallCond              1168 non-null   int64  \n",
      " 5   YearBuilt                1168 non-null   int64  \n",
      " 6   YearRemodAdd             1168 non-null   int64  \n",
      " 7   MasVnrArea               1162 non-null   float64\n",
      " 8   BsmtFinSF1               1168 non-null   int64  \n",
      " 9   BsmtFinSF2               1168 non-null   int64  \n",
      " 10  BsmtUnfSF                1168 non-null   int64  \n",
      " 11  TotalBsmtSF              1168 non-null   int64  \n",
      " 12  1stFlrSF                 1168 non-null   int64  \n",
      " 13  2ndFlrSF                 1168 non-null   int64  \n",
      " 14  LowQualFinSF             1168 non-null   int64  \n",
      " 15  GrLivArea                1168 non-null   int64  \n",
      " 16  BsmtFullBath             1168 non-null   int64  \n",
      " 17  BsmtHalfBath             1168 non-null   int64  \n",
      " 18  FullBath                 1168 non-null   int64  \n",
      " 19  HalfBath                 1168 non-null   int64  \n",
      " 20  BedroomAbvGr             1168 non-null   int64  \n",
      " 21  KitchenAbvGr             1168 non-null   int64  \n",
      " 22  TotRmsAbvGrd             1168 non-null   int64  \n",
      " 23  Fireplaces               1168 non-null   int64  \n",
      " 24  GarageYrBlt              1110 non-null   float64\n",
      " 25  GarageCars               1168 non-null   int64  \n",
      " 26  GarageArea               1168 non-null   int64  \n",
      " 27  WoodDeckSF               1168 non-null   int64  \n",
      " 28  OpenPorchSF              1168 non-null   int64  \n",
      " 29  EnclosedPorch            1168 non-null   int64  \n",
      " 30  3SsnPorch                1168 non-null   int64  \n",
      " 31  ScreenPorch              1168 non-null   int64  \n",
      " 32  PoolArea                 1168 non-null   int64  \n",
      " 33  MiscVal                  1168 non-null   int64  \n",
      " 34  MoSold                   1168 non-null   int64  \n",
      " 35  YrSold                   1168 non-null   int64  \n",
      " 36  LotFrontage_was_missing  1168 non-null   bool   \n",
      " 37  MasVnrArea_was_missing   1168 non-null   bool   \n",
      " 38  GarageYrBlt_was_missing  1168 non-null   bool   \n",
      "dtypes: bool(3), float64(3), int64(33)\n",
      "memory usage: 341.0 KB\n"
     ]
    }
   ],
   "source": [
    "# 1. Hacer una copia para evitar cambiar los datos originales, al cambiar\n",
    "X_train_extended = X_train.copy()\n",
    "X_valid_extended = X_valid.copy()\n",
    "\n",
    "# 2. Identificar las columnas con valores faltantes y almacenar en una variable: \"cols_with_missing_extended\"\n",
    "cols_with_missing_extended = [col for col in X_train_extended.columns\n",
    "                     if X_train_extended[col].isnull().any()]\n",
    "\n",
    "# 2.1 Crear las nuevas columnas para las variables que se imputaran (3 variables)\n",
    "# Se utiliza la lista definida: \"cols_with_missing_extended\"\n",
    "\n",
    "\n",
    "for col in cols_with_missing_extended:\n",
    "    X_train_extended[col + '_was_missing'] = X_train_extended[col].isnull()\n",
    "    X_valid_extended[col + '_was_missing'] = X_valid_extended[col].isnull()\n",
    "\n",
    "# 2.2 Revisar X_train_extended\n",
    "X_train_extended.info()"
   ]
  },
  {
   "cell_type": "markdown",
   "metadata": {},
   "source": [
    "* A cada columna con valores faltantes, Se han agregado una adicional. Las 36, 37 y 38, tipo booleanas.\n",
    "* Veamos ahora cada caso de imputación con este dataframe extendido."
   ]
  },
  {
   "cell_type": "markdown",
   "metadata": {},
   "source": [
    "### 3.1 Imputación dataframe extendido (strategy='mean')"
   ]
  },
  {
   "cell_type": "code",
   "execution_count": 73,
   "metadata": {},
   "outputs": [
    {
     "name": "stdout",
     "output_type": "stream",
     "text": [
      "MAE from Approach 3 (An Extension to Imputation: mean):\n",
      "18148.417180365297\n"
     ]
    }
   ],
   "source": [
    "# 3.1.1 Imputation (media)\n",
    "my_imputer = SimpleImputer()\n",
    "\n",
    "imputed_mean_X_train_extended = pd.DataFrame(my_imputer.fit_transform(X_train_extended))\n",
    "imputed_mean_X_valid_extended = pd.DataFrame(my_imputer.transform(X_valid_extended))\n",
    "\n",
    "# 3.1.2 Devolver el nombre dev las columnas, al imputar se elimanaron los nombres\n",
    "imputed_mean_X_train_extended.columns = X_train_extended.columns\n",
    "imputed_mean_X_valid_extended.columns = X_valid_extended.columns\n",
    "\n",
    "# 3.1.3. Calculo del MAE para el Método\n",
    "print(\"MAE from Approach 3 (An Extension to Imputation: mean):\")\n",
    "print(score_dataset(imputed_mean_X_train_extended, imputed_mean_X_valid_extended, y_train, y_valid))"
   ]
  },
  {
   "cell_type": "markdown",
   "metadata": {},
   "source": [
    "### 3.2 Imputación (strategy='median')"
   ]
  },
  {
   "cell_type": "code",
   "execution_count": 74,
   "metadata": {},
   "outputs": [
    {
     "name": "stdout",
     "output_type": "stream",
     "text": [
      "MAE from Approach 3 (An Extension to Imputation: median):\n",
      "18063.910194063923\n"
     ]
    }
   ],
   "source": [
    "# 3.2.1. Imputation (mediana)\n",
    "my_imputer = SimpleImputer(strategy='median')\n",
    "\n",
    "imputed_median_X_train_extended = pd.DataFrame(my_imputer.fit_transform(X_train_extended))\n",
    "imputed_median_X_valid_extended = pd.DataFrame(my_imputer.transform(X_valid_extended))\n",
    "\n",
    "# 3.2.2 Devolver el nombre dev las columnas, al imputar se elimanaron los nombres\n",
    "imputed_median_X_train_extended.columns = X_train_extended.columns\n",
    "imputed_median_X_valid_extended.columns = X_valid_extended.columns\n",
    "\n",
    "# 3.2.3 Calculo del MAE para el Método\n",
    "print(\"MAE from Approach 3 (An Extension to Imputation: median):\")\n",
    "print(score_dataset(imputed_median_X_train_extended, imputed_median_X_valid_extended, y_train, y_valid))"
   ]
  },
  {
   "cell_type": "markdown",
   "metadata": {},
   "source": [
    "### 3.3 Imputación (strategy='most_frequent')"
   ]
  },
  {
   "cell_type": "code",
   "execution_count": 75,
   "metadata": {},
   "outputs": [
    {
     "name": "stdout",
     "output_type": "stream",
     "text": [
      "MAE from Approach 3 (An Extension to Imputation: most_frequent):\n",
      "18012.925182648403\n"
     ]
    }
   ],
   "source": [
    "# 3.3.1 Imputation (media)\n",
    "my_imputer = SimpleImputer(strategy='most_frequent')\n",
    "\n",
    "imputed_mf_X_train_extended = pd.DataFrame(my_imputer.fit_transform(X_train_extended))\n",
    "imputed_mf_X_valid_extended = pd.DataFrame(my_imputer.transform(X_valid_extended))\n",
    "\n",
    "# 3.3.2 Devolver el nombre dev las columnas, al imputar se elimanaron los nombres\n",
    "imputed_mf_X_train_extended.columns = X_train_extended.columns\n",
    "imputed_mf_X_valid_extended.columns = X_valid_extended.columns\n",
    "\n",
    "# 3.3.3. Calculo del MAE para el Método\n",
    "print(\"MAE from Approach 3 (An Extension to Imputation: most_frequent):\")\n",
    "print(score_dataset(imputed_mf_X_train_extended, imputed_mf_X_valid_extended, y_train, y_valid))"
   ]
  },
  {
   "cell_type": "markdown",
   "metadata": {},
   "source": [
    "# Paso 4. Resumen de valoración a cada enfoque"
   ]
  },
  {
   "cell_type": "code",
   "execution_count": 76,
   "metadata": {},
   "outputs": [
    {
     "name": "stdout",
     "output_type": "stream",
     "text": [
      "MAE (Eliminar columnas con valores faltantes):\n",
      "17837.82570776256\n",
      "MAE (Imputación Simple: media):\n",
      "18062.894611872147\n",
      "MAE (Imputation Simple: mediana):\n",
      "17791.59899543379\n",
      "MAE (Imputation Simple: most_frequent):\n",
      "17956.065479452056\n",
      "MAE from Approach 3 (An Extension to Imputation: mean):\n",
      "18148.417180365297\n",
      "MAE from Approach 3 (An Extension to Imputation: median):\n",
      "18063.910194063923\n",
      "MAE from Approach 3 (An Extension to Imputation: most_frequent):\n",
      "18012.925182648403\n"
     ]
    }
   ],
   "source": [
    "print(\"MAE (Eliminar columnas con valores faltantes):\")\n",
    "print(score_dataset(reduce_X_train, reduce_X_valid, y_train, y_valid))\n",
    "print(\"MAE (Imputación Simple: media):\")\n",
    "print(score_dataset(imputed_mean_X_train, imputed_mean_X_valid, y_train, y_valid))\n",
    "print(\"MAE (Imputation Simple: mediana):\")\n",
    "print(score_dataset(imputed_median_X_train, imputed_median_X_valid, y_train, y_valid))\n",
    "print(\"MAE (Imputation Simple: most_frequent):\")\n",
    "print(score_dataset(imputed_mf_X_train, imputed_mf_X_valid, y_train, y_valid))\n",
    "print(\"MAE from Approach 3 (An Extension to Imputation: mean):\")\n",
    "print(score_dataset(imputed_mean_X_train_extended, imputed_mean_X_valid_extended, y_train, y_valid))\n",
    "print(\"MAE from Approach 3 (An Extension to Imputation: median):\")\n",
    "print(score_dataset(imputed_median_X_train_extended, imputed_median_X_valid_extended, y_train, y_valid))\n",
    "print(\"MAE from Approach 3 (An Extension to Imputation: most_frequent):\")\n",
    "print(score_dataset(imputed_mf_X_train_extended, imputed_mf_X_valid_extended, y_train, y_valid))"
   ]
  },
  {
   "cell_type": "markdown",
   "metadata": {},
   "source": [
    "* En resumen, la **imputación simple** utilizando la mediana, resultó más óptima."
   ]
  },
  {
   "cell_type": "markdown",
   "metadata": {},
   "source": [
    "# Paso 5. Generar predicciones de prueba. X_test\n",
    "* En este paso final, se utilizará el enfoque más óptimo que resultó de abordar los valores faltantes.\n",
    "* Una vez que haya preprocesado las funciones de entrenamiento y validación, se entrenará y evaluará un modelo de RandomForest.\n",
    "* Luego, se procesará previamente los datos de la prueba antes de generar predicciones."
   ]
  },
  {
   "cell_type": "markdown",
   "metadata": {},
   "source": [
    "## Parte A. Preprocesar los datos de entrenamiento y validación.\n",
    "\n",
    "* Se establecen los DataFrames preprocesados en **final_X_train** y **final_X_valid**.\n",
    "* Para que este paso se debe asegurar:\n",
    "  1. los DataFrames preprocesados tienen el mismo número de columnas,\n",
    "  2. los DataFrames preprocesados no tienen valores faltantes,\n",
    "  3. **final_X_train** e **y_train** tienen el mismo número de filas, y\n",
    "  4. **final_X_valid** e **y_valid** tienen el mismo número de filas.\n",
    "  5. Definir y ajustar las variables finales en el modelo entrenado\n",
    "  6. Obtener predicciones de validación y MAE"
   ]
  },
  {
   "cell_type": "code",
   "execution_count": 78,
   "metadata": {},
   "outputs": [],
   "source": [
    "# 1. Funciones de validación y entrenamiento preprocesadas.\n",
    "# Los fresultados obtenidas por el enfoque imputación simple (mediana) fueron mejores.\n",
    "# Los elegimos para nuestro modelo final y se definen las variables finales.\n",
    "final_X_train = imputed_median_X_train\n",
    "final_X_valid = imputed_median_X_valid"
   ]
  },
  {
   "cell_type": "code",
   "execution_count": 93,
   "metadata": {},
   "outputs": [],
   "source": [
    "# 2.1 Revisar las mismas columnas en los dataframe de entrenamiento y validación\n",
    "# Función para comparar columnas en dos dataframe\n",
    "\n",
    "def comparar_columnas(df_a, df_b, nombre_df_a, nombre_df_b, considerar_orden=False):\n",
    "    \"\"\"\n",
    "    Compara si dos DataFrames tienen los mismos nombres de columnas.\n",
    "\n",
    "    Parámetros:\n",
    "    df_a (pd.DataFrame): Primer DataFrame.\n",
    "    df_b (pd.DataFrame): Segundo DataFrame.\n",
    "    nombre_df_a (str): Nombre del primer DataFrame para imprimir en el mensaje.\n",
    "    nombre_df_b (str): Nombre del segundo DataFrame para imprimir en el mensaje.\n",
    "    considerar_orden (bool): Si se debe considerar el orden de las columnas.\n",
    "\n",
    "    Retorna:\n",
    "    bool: True si los DataFrames tienen las mismas columnas, False en caso contrario.\n",
    "    \"\"\"\n",
    "    if considerar_orden:\n",
    "        # Verificar si el orden de las columnas es el mismo\n",
    "        mismas_columnas = list(df_a.columns) == list(df_b.columns)\n",
    "    else:\n",
    "        # Verificar si los conjuntos de columnas son iguales, sin considerar el orden\n",
    "        mismas_columnas = set(df_a.columns) == set(df_b.columns)\n",
    "\n",
    "    if mismas_columnas:\n",
    "        print(f\"Los DataFrames '{nombre_df_a}' y '{nombre_df_b}' tienen las mismas columnas iguales a {df_a.shape[1]}.\")\n",
    "    else:\n",
    "        columnas_df_a = set(df_a.columns)\n",
    "        columnas_df_b = set(df_b.columns)\n",
    "        columnas_faltantes_a = columnas_df_b - columnas_df_a\n",
    "        columnas_faltantes_b = columnas_df_a - columnas_df_b\n",
    "\n",
    "        print(f\"Los DataFrames '{nombre_df_a}' y '{nombre_df_b}' NO tienen las mismas columnas.\")\n",
    "        if columnas_faltantes_a:\n",
    "            print(f\"Columnas en '{nombre_df_b}' que faltan en '{nombre_df_a}': {columnas_faltantes_a}\")\n",
    "        if columnas_faltantes_b:\n",
    "            print(f\"Columnas en '{nombre_df_a}' que faltan en '{nombre_df_b}': {columnas_faltantes_b}\")\n"
   ]
  },
  {
   "cell_type": "code",
   "execution_count": 94,
   "metadata": {},
   "outputs": [
    {
     "name": "stdout",
     "output_type": "stream",
     "text": [
      "Los DataFrames 'final_X_train' y 'final_X_valid' tienen las mismas columnas iguales a 36.\n"
     ]
    }
   ],
   "source": [
    "comparar_columnas(final_X_train, final_X_valid, \"final_X_train\", \"final_X_valid\")"
   ]
  },
  {
   "cell_type": "code",
   "execution_count": 99,
   "metadata": {},
   "outputs": [],
   "source": [
    "# 2.2 Revisar que no existan valores faltantes en los dataframe\n",
    "# Función para verificar valores fantanes en un dataframe\n",
    "def verificar_valores_faltantes(df, nombre_df ):\n",
    "    # Verificar si hay valores faltantes en el DataFrame\n",
    "    faltantes = df.isnull().values.any()\n",
    "\n",
    "    # Imprimir resultado\n",
    "    if not faltantes:\n",
    "        print(f\"El DataFrame '{nombre_df}' no tiene valores faltantes.\")\n",
    "    else:\n",
    "        print(f\"El DataFrame '{nombre_df}' tiene valores faltantes.\")\n"
   ]
  },
  {
   "cell_type": "code",
   "execution_count": 100,
   "metadata": {},
   "outputs": [
    {
     "name": "stdout",
     "output_type": "stream",
     "text": [
      "El DataFrame 'final_X_train' no tiene valores faltantes.\n",
      "El DataFrame 'final_X_valid' no tiene valores faltantes.\n"
     ]
    }
   ],
   "source": [
    "verificar_valores_faltantes(final_X_train, \"final_X_train\")\n",
    "verificar_valores_faltantes(final_X_valid, \"final_X_valid\")"
   ]
  },
  {
   "cell_type": "code",
   "execution_count": 114,
   "metadata": {},
   "outputs": [
    {
     "name": "stdout",
     "output_type": "stream",
     "text": [
      "final_X_train tiene 1168 filas\n",
      "y_train tiene 1168 filas\n"
     ]
    }
   ],
   "source": [
    "# 3.Revisar que final_X_train tiene el mismo número de filas que y_train\n",
    "print(f\"final_X_train tiene {final_X_train.shape[0]} filas\")\n",
    "print(f\"y_train tiene {y_train.shape[0]} filas\")"
   ]
  },
  {
   "cell_type": "code",
   "execution_count": 115,
   "metadata": {},
   "outputs": [
    {
     "name": "stdout",
     "output_type": "stream",
     "text": [
      "final_X_valid tiene 292 filas\n",
      "y_valid tiene 292 filas\n"
     ]
    }
   ],
   "source": [
    "# 4. Revisar que final_X_valid tiene el mismo número de filas que y_valid\n",
    "print(f\"final_X_valid tiene {final_X_valid.shape[0]} filas\")\n",
    "print(f\"y_valid tiene {y_valid.shape[0]} filas\")"
   ]
  },
  {
   "cell_type": "code",
   "execution_count": 104,
   "metadata": {},
   "outputs": [
    {
     "data": {
      "text/html": [
       "<style>#sk-container-id-1 {color: black;}#sk-container-id-1 pre{padding: 0;}#sk-container-id-1 div.sk-toggleable {background-color: white;}#sk-container-id-1 label.sk-toggleable__label {cursor: pointer;display: block;width: 100%;margin-bottom: 0;padding: 0.3em;box-sizing: border-box;text-align: center;}#sk-container-id-1 label.sk-toggleable__label-arrow:before {content: \"▸\";float: left;margin-right: 0.25em;color: #696969;}#sk-container-id-1 label.sk-toggleable__label-arrow:hover:before {color: black;}#sk-container-id-1 div.sk-estimator:hover label.sk-toggleable__label-arrow:before {color: black;}#sk-container-id-1 div.sk-toggleable__content {max-height: 0;max-width: 0;overflow: hidden;text-align: left;background-color: #f0f8ff;}#sk-container-id-1 div.sk-toggleable__content pre {margin: 0.2em;color: black;border-radius: 0.25em;background-color: #f0f8ff;}#sk-container-id-1 input.sk-toggleable__control:checked~div.sk-toggleable__content {max-height: 200px;max-width: 100%;overflow: auto;}#sk-container-id-1 input.sk-toggleable__control:checked~label.sk-toggleable__label-arrow:before {content: \"▾\";}#sk-container-id-1 div.sk-estimator input.sk-toggleable__control:checked~label.sk-toggleable__label {background-color: #d4ebff;}#sk-container-id-1 div.sk-label input.sk-toggleable__control:checked~label.sk-toggleable__label {background-color: #d4ebff;}#sk-container-id-1 input.sk-hidden--visually {border: 0;clip: rect(1px 1px 1px 1px);clip: rect(1px, 1px, 1px, 1px);height: 1px;margin: -1px;overflow: hidden;padding: 0;position: absolute;width: 1px;}#sk-container-id-1 div.sk-estimator {font-family: monospace;background-color: #f0f8ff;border: 1px dotted black;border-radius: 0.25em;box-sizing: border-box;margin-bottom: 0.5em;}#sk-container-id-1 div.sk-estimator:hover {background-color: #d4ebff;}#sk-container-id-1 div.sk-parallel-item::after {content: \"\";width: 100%;border-bottom: 1px solid gray;flex-grow: 1;}#sk-container-id-1 div.sk-label:hover label.sk-toggleable__label {background-color: #d4ebff;}#sk-container-id-1 div.sk-serial::before {content: \"\";position: absolute;border-left: 1px solid gray;box-sizing: border-box;top: 0;bottom: 0;left: 50%;z-index: 0;}#sk-container-id-1 div.sk-serial {display: flex;flex-direction: column;align-items: center;background-color: white;padding-right: 0.2em;padding-left: 0.2em;position: relative;}#sk-container-id-1 div.sk-item {position: relative;z-index: 1;}#sk-container-id-1 div.sk-parallel {display: flex;align-items: stretch;justify-content: center;background-color: white;position: relative;}#sk-container-id-1 div.sk-item::before, #sk-container-id-1 div.sk-parallel-item::before {content: \"\";position: absolute;border-left: 1px solid gray;box-sizing: border-box;top: 0;bottom: 0;left: 50%;z-index: -1;}#sk-container-id-1 div.sk-parallel-item {display: flex;flex-direction: column;z-index: 1;position: relative;background-color: white;}#sk-container-id-1 div.sk-parallel-item:first-child::after {align-self: flex-end;width: 50%;}#sk-container-id-1 div.sk-parallel-item:last-child::after {align-self: flex-start;width: 50%;}#sk-container-id-1 div.sk-parallel-item:only-child::after {width: 0;}#sk-container-id-1 div.sk-dashed-wrapped {border: 1px dashed gray;margin: 0 0.4em 0.5em 0.4em;box-sizing: border-box;padding-bottom: 0.4em;background-color: white;}#sk-container-id-1 div.sk-label label {font-family: monospace;font-weight: bold;display: inline-block;line-height: 1.2em;}#sk-container-id-1 div.sk-label-container {text-align: center;}#sk-container-id-1 div.sk-container {/* jupyter's `normalize.less` sets `[hidden] { display: none; }` but bootstrap.min.css set `[hidden] { display: none !important; }` so we also need the `!important` here to be able to override the default hidden behavior on the sphinx rendered scikit-learn.org. See: https://github.com/scikit-learn/scikit-learn/issues/21755 */display: inline-block !important;position: relative;}#sk-container-id-1 div.sk-text-repr-fallback {display: none;}</style><div id=\"sk-container-id-1\" class=\"sk-top-container\"><div class=\"sk-text-repr-fallback\"><pre>RandomForestRegressor(random_state=0)</pre><b>In a Jupyter environment, please rerun this cell to show the HTML representation or trust the notebook. <br />On GitHub, the HTML representation is unable to render, please try loading this page with nbviewer.org.</b></div><div class=\"sk-container\" hidden><div class=\"sk-item\"><div class=\"sk-estimator sk-toggleable\"><input class=\"sk-toggleable__control sk-hidden--visually\" id=\"sk-estimator-id-1\" type=\"checkbox\" checked><label for=\"sk-estimator-id-1\" class=\"sk-toggleable__label sk-toggleable__label-arrow\">RandomForestRegressor</label><div class=\"sk-toggleable__content\"><pre>RandomForestRegressor(random_state=0)</pre></div></div></div></div></div>"
      ],
      "text/plain": [
       "RandomForestRegressor(random_state=0)"
      ]
     },
     "execution_count": 104,
     "metadata": {},
     "output_type": "execute_result"
    }
   ],
   "source": [
    "# 5. Definir y ajustar las variables finales en el modelo entrenado\n",
    "model = RandomForestRegressor(n_estimators=100, random_state=0)\n",
    "model.fit(final_X_train, y_train)"
   ]
  },
  {
   "cell_type": "code",
   "execution_count": 105,
   "metadata": {},
   "outputs": [
    {
     "name": "stdout",
     "output_type": "stream",
     "text": [
      "MAE (Your approach):\n",
      "17791.59899543379\n"
     ]
    }
   ],
   "source": [
    "# 6. Obtener predicciones de validación y MAE\n",
    "preds_valid = model.predict(final_X_valid)\n",
    "print(\"MAE (Your approach):\")\n",
    "print(mean_absolute_error(y_valid, preds_valid))"
   ]
  },
  {
   "cell_type": "markdown",
   "metadata": {},
   "source": [
    "## Parte B. Preprocesar los datos de prueba (test)\n",
    "* Asegurarse de utilizar un método que coincida con la forma en que se procesó previamente los datos de entrenamiento y validación, y configurar las funciones de prueba preprocesadas en **final_X_test**.\n",
    "* Luego, utilizar las funciones de prueba preprocesadas y el modelo entrenado para generar predicciones de prueba en **preds_test**.\n",
    "* Asegurarse de:\n",
    "  1. el DataFrame de prueba preprocesado **no tiene valores faltantes**, y\n",
    "  2. **final_X_test** tiene el mismo número de filas que **X_test**."
   ]
  },
  {
   "cell_type": "code",
   "execution_count": 112,
   "metadata": {},
   "outputs": [
    {
     "name": "stdout",
     "output_type": "stream",
     "text": [
      "X_test, tiene 1459 filas y 36 columnas\n"
     ]
    }
   ],
   "source": [
    "# Tamaño de X_test\n",
    "print(f\"X_test, tiene {X_test.shape[0]} filas y {X_test.shape[1]} columnas\")"
   ]
  },
  {
   "cell_type": "markdown",
   "metadata": {},
   "source": [
    "* Los datos de final_X_test se deben preprocesar con el mismo método de preprocesamiento que los datos de entrenamiento y validación.(final_X_train y final_X_valid)\n",
    "* Los **datos de entrenamiento y validación** se obtuvieron con el método imputación simple (mediana)"
   ]
  },
  {
   "cell_type": "markdown",
   "metadata": {},
   "source": [
    "**Importante**\n",
    "\n",
    "* Como los nombres de las caracteristicas (variables predictoras) deben coincidir con los que se aprobaron durante el ajuste del modelo (fit), se debe tener cuidado en mantener tambien esas columnas en la data test (X_test)."
   ]
  },
  {
   "cell_type": "code",
   "execution_count": 117,
   "metadata": {},
   "outputs": [],
   "source": [
    "# 1. Preprocesar X_test tambien con el metodo de imputación simple (mediana)\n",
    "\n",
    "from sklearn.impute import SimpleImputer\n",
    "\n",
    "mi_imputacion_final = SimpleImputer(strategy='median')\n",
    "imputed_X_test = pd.DataFrame(mi_imputacion_final.fit_transform(X_test))\n",
    "\n",
    "# 2. Devolver nombre a columnas eliminadas por la imputación.\n",
    "\n",
    "imputed_X_test.columns = X_test.columns\n",
    "\n",
    "# 3. Preprocesar Data de prueba con el mismo método ya imputado\n",
    "final_X_test = imputed_X_test"
   ]
  },
  {
   "cell_type": "code",
   "execution_count": 118,
   "metadata": {},
   "outputs": [
    {
     "name": "stdout",
     "output_type": "stream",
     "text": [
      "El DataFrame 'final_X_test' no tiene valores faltantes.\n"
     ]
    }
   ],
   "source": [
    "# 4. Verificar que final_X_test no tiene valores faltantes\n",
    "verificar_valores_faltantes(final_X_test, \"final_X_test\")"
   ]
  },
  {
   "cell_type": "code",
   "execution_count": 120,
   "metadata": {},
   "outputs": [
    {
     "name": "stdout",
     "output_type": "stream",
     "text": [
      "final_X_test tiene 1459 filas\n",
      "X_test tiene 1459 filas\n"
     ]
    }
   ],
   "source": [
    "# 5. Revisar que final_X_test tiene el mismo número de filas que X_test\n",
    "print(f\"final_X_test tiene {final_X_test.shape[0]} filas\")\n",
    "print(f\"X_test tiene {X_test.shape[0]} filas\")"
   ]
  },
  {
   "cell_type": "code",
   "execution_count": 121,
   "metadata": {},
   "outputs": [],
   "source": [
    "# 6.Obtener la prediciòn de prueba\n",
    "preds_test = model.predict(final_X_test)"
   ]
  },
  {
   "cell_type": "code",
   "execution_count": 123,
   "metadata": {},
   "outputs": [
    {
     "data": {
      "text/plain": [
       "array([125985.5 , 154599.5 , 180070.24, ..., 154751.44, 107387.  ,\n",
       "       229281.55])"
      ]
     },
     "execution_count": 123,
     "metadata": {},
     "output_type": "execute_result"
    }
   ],
   "source": [
    "preds_test"
   ]
  },
  {
   "cell_type": "code",
   "execution_count": 124,
   "metadata": {},
   "outputs": [],
   "source": [
    "# 7. Guardar las predicciones en un archivo\n",
    "output = pd.DataFrame({'Id': X_test.index,\n",
    "                      'SalePrice': preds_test})\n",
    "output.to_csv('submission.csv', index=False)"
   ]
  }
 ],
 "metadata": {
  "kernelspec": {
   "display_name": "base",
   "language": "python",
   "name": "python3"
  },
  "language_info": {
   "codemirror_mode": {
    "name": "ipython",
    "version": 3
   },
   "file_extension": ".py",
   "mimetype": "text/x-python",
   "name": "python",
   "nbconvert_exporter": "python",
   "pygments_lexer": "ipython3",
   "version": "3.8.5"
  }
 },
 "nbformat": 4,
 "nbformat_minor": 2
}
